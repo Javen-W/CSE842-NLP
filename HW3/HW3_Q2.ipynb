{
 "cells": [
  {
   "cell_type": "code",
   "execution_count": 9,
   "id": "be53685c-ebbb-4514-819b-76e4537bd7df",
   "metadata": {},
   "outputs": [],
   "source": [
    "import numpy as np\n",
    "import pandas as pd\n",
    "from datasets import load_dataset, Dataset, DatasetDict\n",
    "from nltk.tokenize import sent_tokenize, word_tokenize"
   ]
  },
  {
   "cell_type": "code",
   "execution_count": 4,
   "id": "b2b0f70a-8209-4c18-87b9-bd74e074d44e",
   "metadata": {},
   "outputs": [
    {
     "name": "stdout",
     "output_type": "stream",
     "text": [
      "DatasetDict({\n",
      "    train: Dataset({\n",
      "        features: ['text', 'label', 'model'],\n",
      "        num_rows: 122247\n",
      "    })\n",
      "    valid: Dataset({\n",
      "        features: ['text', 'label', 'model'],\n",
      "        num_rows: 15281\n",
      "    })\n",
      "    test: Dataset({\n",
      "        features: ['text', 'label', 'model'],\n",
      "        num_rows: 15281\n",
      "    })\n",
      "})\n"
     ]
    }
   ],
   "source": [
    "\"\"\"\n",
    "Download dataset SubtaskA.jsonl from \n",
    "https://github.com/mbzuai-nlp/M4GT-Bench.\n",
    "\"\"\"\n",
    "DATA_PATH = \"/home/javen/Documents/Datasets/M4GT-Bench/SubtaskA.jsonl\"\n",
    "\n",
    "# initialize dataset\n",
    "df = pd.read_json(DATA_PATH, lines=True)\n",
    "df = df[['text', 'label', 'model']]\n",
    "dataset = Dataset.from_pandas(df)\n",
    "\n",
    "# split dataset\n",
    "a = dataset.train_test_split(test_size=0.20)\n",
    "b = a['test'].train_test_split(test_size=0.5)\n",
    "dataset = DatasetDict({\n",
    "    'train': a['train'],\n",
    "    'valid': b['train'],\n",
    "    'test': b['test'],\n",
    "})\n",
    "print(dataset)"
   ]
  },
  {
   "cell_type": "code",
   "execution_count": 14,
   "id": "0660ab2a-638e-4e05-a2d3-e6e2cac08b76",
   "metadata": {},
   "outputs": [
    {
     "data": {
      "application/vnd.jupyter.widget-view+json": {
       "model_id": "9e43ae790da94f37acb8f887cac4d367",
       "version_major": 2,
       "version_minor": 0
      },
      "text/plain": [
       "Map:   0%|          | 0/122247 [00:00<?, ? examples/s]"
      ]
     },
     "metadata": {},
     "output_type": "display_data"
    },
    {
     "data": {
      "application/vnd.jupyter.widget-view+json": {
       "model_id": "e84d8105d61a41c883a0952e803f618c",
       "version_major": 2,
       "version_minor": 0
      },
      "text/plain": [
       "Map:   0%|          | 0/15281 [00:00<?, ? examples/s]"
      ]
     },
     "metadata": {},
     "output_type": "display_data"
    },
    {
     "data": {
      "application/vnd.jupyter.widget-view+json": {
       "model_id": "5eaea0fa62e64371a8d3f32d091d26fa",
       "version_major": 2,
       "version_minor": 0
      },
      "text/plain": [
       "Map:   0%|          | 0/15281 [00:00<?, ? examples/s]"
      ]
     },
     "metadata": {},
     "output_type": "display_data"
    },
    {
     "name": "stdout",
     "output_type": "stream",
     "text": [
      "DatasetDict({\n",
      "    train: Dataset({\n",
      "        features: ['text', 'label', 'model'],\n",
      "        num_rows: 122247\n",
      "    })\n",
      "    valid: Dataset({\n",
      "        features: ['text', 'label', 'model'],\n",
      "        num_rows: 15281\n",
      "    })\n",
      "    test: Dataset({\n",
      "        features: ['text', 'label', 'model'],\n",
      "        num_rows: 15281\n",
      "    })\n",
      "})\n"
     ]
    }
   ],
   "source": [
    "\"\"\"\n",
    "Tokenize dataset.\n",
    "\"\"\"\n",
    "def tokenize(X):\n",
    "    X['text'] = [word_tokenize(sentence.lower()) for sentence in X['text']]\n",
    "    return X\n",
    "\n",
    "# tokenize data\n",
    "tokenized_datasets = dataset.map(tokenize, batched=True)\n",
    "print(tokenized_datasets)"
   ]
  },
  {
   "cell_type": "code",
   "execution_count": null,
   "id": "6c276a69-4c66-4fbe-85fc-b1561e3e73d7",
   "metadata": {},
   "outputs": [],
   "source": []
  }
 ],
 "metadata": {
  "kernelspec": {
   "display_name": "Python 3 (ipykernel)",
   "language": "python",
   "name": "python3"
  },
  "language_info": {
   "codemirror_mode": {
    "name": "ipython",
    "version": 3
   },
   "file_extension": ".py",
   "mimetype": "text/x-python",
   "name": "python",
   "nbconvert_exporter": "python",
   "pygments_lexer": "ipython3",
   "version": "3.12.4"
  }
 },
 "nbformat": 4,
 "nbformat_minor": 5
}
