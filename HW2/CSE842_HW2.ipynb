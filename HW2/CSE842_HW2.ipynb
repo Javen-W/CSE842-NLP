{
 "cells": [
  {
   "cell_type": "code",
   "execution_count": 54,
   "id": "119a8b6f-0373-4a35-8dac-6362655a345d",
   "metadata": {},
   "outputs": [],
   "source": [
    "import nltk\n",
    "import numpy as np\n",
    "import pandas as pd\n",
    "from nltk.corpus import brown\n",
    "from nltk.probability import ConditionalFreqDist"
   ]
  },
  {
   "cell_type": "code",
   "execution_count": 15,
   "id": "8588cf73-6f02-47cd-83ea-45703b3454d6",
   "metadata": {},
   "outputs": [
    {
     "name": "stderr",
     "output_type": "stream",
     "text": [
      "[nltk_data] Downloading package brown to\n",
      "[nltk_data]     C:\\Users\\Admin\\AppData\\Roaming\\nltk_data...\n",
      "[nltk_data]   Package brown is already up-to-date!\n",
      "[nltk_data] Downloading package universal_tagset to\n",
      "[nltk_data]     C:\\Users\\Admin\\AppData\\Roaming\\nltk_data...\n",
      "[nltk_data]   Unzipping taggers\\universal_tagset.zip.\n"
     ]
    },
    {
     "data": {
      "text/plain": [
       "True"
      ]
     },
     "execution_count": 15,
     "metadata": {},
     "output_type": "execute_result"
    }
   ],
   "source": [
    "\"\"\"\n",
    "NLTK package downloads.\n",
    "\"\"\"\n",
    "nltk.download('brown')\n",
    "nltk.download('universal_tagset')"
   ]
  },
  {
   "cell_type": "code",
   "execution_count": 31,
   "id": "951a2d27-5015-4d28-9bf5-a1605581402d",
   "metadata": {},
   "outputs": [],
   "source": [
    "\"\"\"\n",
    "Q1.) Hidden Markov Model\n",
    "\"\"\"\n",
    "news_words = brown.tagged_words(categories='news', tagset='universal')\n",
    "tag_fd = nltk.FreqDist(tag for (word, tag) in news_words)\n",
    "tag_classes = list(tag_fd.keys())\n",
    "# ['DET', 'NOUN', 'ADJ', 'VERB', 'ADP', '.', 'ADV', 'CONJ', 'PRT', 'PRON', 'NUM', 'X']\n",
    "\n",
    "N = len(tag_classes)  # number of states  \n",
    "Q = tag_classes  # set of N states"
   ]
  },
  {
   "cell_type": "code",
   "execution_count": 87,
   "id": "86d0b084-adca-42b8-bb37-3c08bad65b13",
   "metadata": {},
   "outputs": [
    {
     "name": "stdout",
     "output_type": "stream",
     "text": [
      "\n",
      "Transition Probabilities Matrix (A)\n",
      "          NOUN       ADJ      VERB       NUM       ADV         .       ADP  \\\n",
      "DET   0.647379  0.233559  0.054263  0.018966  0.013171  0.010536  0.008078   \n",
      "NOUN  0.259640  0.017029  0.136752  0.010537  0.020650  0.252235  0.212664   \n",
      "ADJ   0.709961  0.060990  0.015956  0.018938  0.005517  0.065464  0.072920   \n",
      "VERB  0.127926  0.051254  0.202445  0.017640  0.073269  0.064727  0.173970   \n",
      "ADP   0.306030  0.077135  0.037798  0.058600  0.010765  0.008580  0.016916   \n",
      ".     0.234426  0.043095  0.100444  0.025405  0.052486  0.110673  0.102540   \n",
      "ADV   0.055539  0.120334  0.273514  0.024186  0.075545  0.132875  0.156166   \n",
      "CONJ  0.345234  0.107840  0.176297  0.027604  0.058152  0.016930  0.057416   \n",
      "PRT   0.041519  0.017668  0.651502  0.011926  0.033127  0.041519  0.102032   \n",
      "PRON  0.007495  0.009073  0.761341  0.001183  0.058383  0.064300  0.045759   \n",
      "NUM   0.412742  0.069714  0.046168  0.015235  0.036934  0.235919  0.132502   \n",
      "X     0.119565  0.000000  0.021739  0.000000  0.010870  0.217391  0.054348   \n",
      "\n",
      "          PRON       DET       PRT         X      CONJ  \n",
      "DET   0.005707  0.005268  0.001756  0.000966  0.000351  \n",
      "NOUN  0.012201  0.013603  0.016833  0.000326  0.047531  \n",
      "ADJ   0.002535  0.005368  0.016105  0.000298  0.025947  \n",
      "VERB  0.032016  0.179943  0.067088  0.000069  0.009653  \n",
      "ADP   0.033994  0.440227  0.008580  0.000324  0.001052  \n",
      ".     0.077974  0.163243  0.024650  0.001006  0.064056  \n",
      "ADV   0.036429  0.081218  0.028367  0.000000  0.015826  \n",
      "CONJ  0.042326  0.143541  0.024291  0.000368  0.000000  \n",
      "PRT   0.002208  0.080389  0.009717  0.000000  0.008392  \n",
      "PRON  0.006706  0.012229  0.021696  0.000000  0.011834  \n",
      "NUM   0.004155  0.010619  0.006925  0.000000  0.029086  \n",
      "X     0.000000  0.000000  0.010870  0.554348  0.010870  \n"
     ]
    }
   ],
   "source": [
    "\"\"\"\n",
    "Part A.) Transition Probabilities MLE\n",
    "\"\"\"\n",
    "bigrams = list(nltk.bigrams(news_words))\n",
    "tag_freq = ConditionalFreqDist((a[1], b[1]) for (a, b) in bigrams)\n",
    "# print(\"Tag Transition Counts\")\n",
    "# tag_freq.tabulate()\n",
    "\n",
    "# transition probability matrix\n",
    "A = pd.DataFrame.from_dict({\n",
    "    t0: {\n",
    "        t1: tag_freq[t0].freq(t1) for t1 in tag_freq[t0]\n",
    "    } for t0 in tag_freq\n",
    "}).fillna(0.0).T\n",
    "print(\"\\nTransition Probabilities Matrix (A)\")\n",
    "print(A)"
   ]
  },
  {
   "cell_type": "code",
   "execution_count": 88,
   "id": "cdf78f41-78c6-4efe-91ea-3709a5fa3cae",
   "metadata": {},
   "outputs": [
    {
     "name": "stdout",
     "output_type": "stream",
     "text": [
      "\n",
      "Emission Probabilities Matrix (B)\n",
      "       science       dog      blue      well      like       but       all\n",
      "DET   0.000000  0.000000  0.000000  0.000000  0.000000  0.000000  0.000000\n",
      "NOUN  0.000326  0.000228  0.000000  0.000000  0.000000  0.000000  0.000000\n",
      "ADJ   0.000000  0.000000  0.002833  0.000298  0.000149  0.000000  0.000000\n",
      "VERB  0.000000  0.000000  0.000000  0.000000  0.001250  0.000000  0.000000\n",
      "ADP   0.000000  0.000000  0.000000  0.000000  0.002347  0.000567  0.000000\n",
      ".     0.000000  0.000000  0.000000  0.000000  0.000000  0.000000  0.000000\n",
      "ADV   0.000000  0.000000  0.000000  0.012242  0.000000  0.000000  0.003583\n",
      "CONJ  0.000000  0.000000  0.000000  0.000000  0.000000  0.101583  0.000000\n",
      "PRT   0.000000  0.000000  0.000000  0.000000  0.000000  0.000000  0.074647\n",
      "PRON  0.000000  0.000000  0.000000  0.000000  0.000000  0.000000  0.000000\n",
      "NUM   0.000000  0.000000  0.000000  0.000000  0.000000  0.000000  0.000000\n",
      "X     0.000000  0.000000  0.000000  0.000000  0.000000  0.000000  0.000000\n"
     ]
    }
   ],
   "source": [
    "\"\"\"\n",
    "Part B.) Emission Probabilities MLE\n",
    "\"\"\"\n",
    "target_words = ['science', 'all', 'well', 'like', 'but', 'blue', 'dog']\n",
    "word_freq = ConditionalFreqDist(\n",
    "    (t[1], t[0].lower()) for t in news_words  # if t[0].lower() in target_words\n",
    ")\n",
    "# print(\"Word Tag Counts\")\n",
    "# word_freq.tabulate()\n",
    "\n",
    "# emission probability matrix\n",
    "B = pd.DataFrame.from_dict({\n",
    "    tag: {\n",
    "        word: word_freq[tag].freq(word) for word in word_freq[tag] if word in target_words\n",
    "    } for tag in word_freq\n",
    "}).fillna(0.0).T\n",
    "print(\"\\nEmission Probabilities Matrix (B)\")\n",
    "print(B)"
   ]
  },
  {
   "cell_type": "code",
   "execution_count": null,
   "id": "10bff8a1-5f88-44d5-b31b-1669ddc9793d",
   "metadata": {},
   "outputs": [],
   "source": []
  }
 ],
 "metadata": {
  "kernelspec": {
   "display_name": "Python 3 (ipykernel)",
   "language": "python",
   "name": "python3"
  },
  "language_info": {
   "codemirror_mode": {
    "name": "ipython",
    "version": 3
   },
   "file_extension": ".py",
   "mimetype": "text/x-python",
   "name": "python",
   "nbconvert_exporter": "python",
   "pygments_lexer": "ipython3",
   "version": "3.8.10"
  }
 },
 "nbformat": 4,
 "nbformat_minor": 5
}
