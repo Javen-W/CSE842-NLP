{
 "cells": [
  {
   "cell_type": "code",
   "execution_count": 54,
   "id": "119a8b6f-0373-4a35-8dac-6362655a345d",
   "metadata": {},
   "outputs": [],
   "source": [
    "import nltk\n",
    "import numpy as np\n",
    "import pandas as pd\n",
    "from nltk.corpus import brown\n",
    "from nltk.probability import ConditionalFreqDist"
   ]
  },
  {
   "cell_type": "code",
   "execution_count": 15,
   "id": "8588cf73-6f02-47cd-83ea-45703b3454d6",
   "metadata": {},
   "outputs": [
    {
     "name": "stderr",
     "output_type": "stream",
     "text": [
      "[nltk_data] Downloading package brown to\n",
      "[nltk_data]     C:\\Users\\Admin\\AppData\\Roaming\\nltk_data...\n",
      "[nltk_data]   Package brown is already up-to-date!\n",
      "[nltk_data] Downloading package universal_tagset to\n",
      "[nltk_data]     C:\\Users\\Admin\\AppData\\Roaming\\nltk_data...\n",
      "[nltk_data]   Unzipping taggers\\universal_tagset.zip.\n"
     ]
    },
    {
     "data": {
      "text/plain": [
       "True"
      ]
     },
     "execution_count": 15,
     "metadata": {},
     "output_type": "execute_result"
    }
   ],
   "source": [
    "\"\"\"\n",
    "NLTK package downloads.\n",
    "\"\"\"\n",
    "nltk.download('brown')\n",
    "nltk.download('universal_tagset')"
   ]
  },
  {
   "cell_type": "code",
   "execution_count": 31,
   "id": "951a2d27-5015-4d28-9bf5-a1605581402d",
   "metadata": {},
   "outputs": [],
   "source": [
    "\"\"\"\n",
    "Q1.) Hidden Markov Model\n",
    "\"\"\"\n",
    "news_words = brown.tagged_words(categories='news', tagset='universal')\n",
    "tag_fd = nltk.FreqDist(tag for (word, tag) in news_words)\n",
    "tag_classes = list(tag_fd.keys())\n",
    "# ['DET', 'NOUN', 'ADJ', 'VERB', 'ADP', '.', 'ADV', 'CONJ', 'PRT', 'PRON', 'NUM', 'X']\n",
    "\n",
    "N = len(tag_classes)  # number of states  \n",
    "Q = tag_classes  # set of N states"
   ]
  },
  {
   "cell_type": "code",
   "execution_count": 68,
   "id": "86d0b084-adca-42b8-bb37-3c08bad65b13",
   "metadata": {},
   "outputs": [
    {
     "name": "stdout",
     "output_type": "stream",
     "text": [
      "Tag Transition Counts\n",
      "        .  ADJ  ADP  ADV CONJ  DET NOUN  NUM PRON  PRT VERB    X \n",
      "   . 1320  514 1223  626  764 1947 2796  303  930  294 1198   12 \n",
      " ADJ  439  409  489   37  174   36 4761  127   17  108  107    2 \n",
      " ADP  106  953  209  133   13 5439 3781  724  420  106  467    4 \n",
      " ADV  445  403  523  253   53  272  186   81  122   95  916    0 \n",
      "CONJ   46  293  156  158    0  390  938   75  115   66  479    1 \n",
      " DET  120 2660   92  150    4   60 7373  216   65   20  618   11 \n",
      "NOUN 7732  522 6519  633 1457  417 7959  323  374  516 4192   10 \n",
      " NUM  511  151  287   80   63   23  894   33    9   15  100    0 \n",
      "PRON  163   23  116  148   30   31   19    3   17   55 1930    0 \n",
      " PRT   94   40  231   75   19  182   94   27    5   22 1475    0 \n",
      "VERB  932  738 2505 1055  139 2591 1842  254  461  966 2915    1 \n",
      "   X   20    0    5    1    1    0   11    0    0    1    2   51 \n",
      "\n",
      "Tag Transition Probabilities\n",
      "           DET      NOUN       ADJ      VERB       ADP         .       ADV  \\\n",
      "NOUN  0.647379  0.259640  0.709961  0.127926  0.306030  0.234426  0.055539   \n",
      "ADJ   0.233559  0.017029  0.060990  0.051254  0.077135  0.043095  0.120334   \n",
      "VERB  0.054263  0.136752  0.015956  0.202445  0.037798  0.100444  0.273514   \n",
      "NUM   0.018966  0.010537  0.018938  0.017640  0.058600  0.025405  0.024186   \n",
      "ADV   0.013171  0.020650  0.005517  0.073269  0.010765  0.052486  0.075545   \n",
      ".     0.010536  0.252235  0.065464  0.064727  0.008580  0.110673  0.132875   \n",
      "ADP   0.008078  0.212664  0.072920  0.173970  0.016916  0.102540  0.156166   \n",
      "PRON  0.005707  0.012201  0.002535  0.032016  0.033994  0.077974  0.036429   \n",
      "DET   0.005268  0.013603  0.005368  0.179943  0.440227  0.163243  0.081218   \n",
      "PRT   0.001756  0.016833  0.016105  0.067088  0.008580  0.024650  0.028367   \n",
      "X     0.000966  0.000326  0.000298  0.000069  0.000324  0.001006  0.000000   \n",
      "CONJ  0.000351  0.047531  0.025947  0.009653  0.001052  0.064056  0.015826   \n",
      "\n",
      "          CONJ       PRT      PRON       NUM         X  \n",
      "NOUN  0.345234  0.041519  0.007495  0.412742  0.119565  \n",
      "ADJ   0.107840  0.017668  0.009073  0.069714  0.000000  \n",
      "VERB  0.176297  0.651502  0.761341  0.046168  0.021739  \n",
      "NUM   0.027604  0.011926  0.001183  0.015235  0.000000  \n",
      "ADV   0.058152  0.033127  0.058383  0.036934  0.010870  \n",
      ".     0.016930  0.041519  0.064300  0.235919  0.217391  \n",
      "ADP   0.057416  0.102032  0.045759  0.132502  0.054348  \n",
      "PRON  0.042326  0.002208  0.006706  0.004155  0.000000  \n",
      "DET   0.143541  0.080389  0.012229  0.010619  0.000000  \n",
      "PRT   0.024291  0.009717  0.021696  0.006925  0.010870  \n",
      "X     0.000368  0.000000  0.000000  0.000000  0.554348  \n",
      "CONJ  0.000000  0.008392  0.011834  0.029086  0.010870  \n"
     ]
    }
   ],
   "source": [
    "\"\"\"\n",
    "Part A.) Transition Probabilities MLE\n",
    "\"\"\"\n",
    "bigrams = list(nltk.bigrams(news_words))\n",
    "tag_freq = ConditionalFreqDist((a[1], b[1]) for (a, b) in bigrams)\n",
    "print(\"Tag Transition Counts\")\n",
    "tag_freq.tabulate()\n",
    "\n",
    "# transition probability matrix\n",
    "A = pd.DataFrame.from_dict({\n",
    "    t0: {\n",
    "        t1: tag_freq[t0].freq(t1) for t1 in tag_freq[t0]\n",
    "    } for t0 in tag_freq\n",
    "}).fillna(0.0)\n",
    "print(\"\\nTag Transition Probabilities\")\n",
    "print(A)"
   ]
  },
  {
   "cell_type": "code",
   "execution_count": null,
   "id": "cdf78f41-78c6-4efe-91ea-3709a5fa3cae",
   "metadata": {},
   "outputs": [],
   "source": []
  }
 ],
 "metadata": {
  "kernelspec": {
   "display_name": "Python 3 (ipykernel)",
   "language": "python",
   "name": "python3"
  },
  "language_info": {
   "codemirror_mode": {
    "name": "ipython",
    "version": 3
   },
   "file_extension": ".py",
   "mimetype": "text/x-python",
   "name": "python",
   "nbconvert_exporter": "python",
   "pygments_lexer": "ipython3",
   "version": "3.10.2"
  }
 },
 "nbformat": 4,
 "nbformat_minor": 5
}
